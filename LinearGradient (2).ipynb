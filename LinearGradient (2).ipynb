{
 "cells": [
  {
   "cell_type": "code",
   "execution_count": 16,
   "id": "94da5420-1131-484b-9c6a-ad3ebf10d49e",
   "metadata": {},
   "outputs": [
    {
     "name": "stdout",
     "output_type": "stream",
     "text": [
      "0.9986713166140342\n",
      "3.265740333\n"
     ]
    },
    {
     "data": {
      "text/plain": [
       "int"
      ]
     },
     "execution_count": 16,
     "metadata": {},
     "output_type": "execute_result"
    }
   ],
   "source": [
    "import pandas as pd\n",
    "import matplotlib.pyplot as plt\n",
    "import numpy as np \n",
    "%matplotlib inline  \n",
    "\n",
    "def linear_fit (self,intercept=-1):\n",
    "    import pandas as pd\n",
    "    x=[]\n",
    "    n=0\n",
    "    while n<len(self) :\n",
    "        x.extend([self.iloc[n,0]])\n",
    "        n=n+1\n",
    "    y=[]\n",
    "    n=0\n",
    "    while n<len(self) :\n",
    "        y.extend([self.iloc[n,1]])\n",
    "        n=n+1\n",
    "    m=int\n",
    "    if intercept==-1:\n",
    "        x_dif=[]\n",
    "        n=0\n",
    "        while n<len(x):\n",
    "            x_dif.extend([(x[n]-np.mean(x))])\n",
    "            n=n+1\n",
    "        while n<len(self) :\n",
    "            y.extend([self.iloc[n,1]])\n",
    "            n=n+1\n",
    "        y_dif=[]\n",
    "        n=0\n",
    "        while n<len(y):\n",
    "            y_dif.extend([(y[n]-np.mean(y))])\n",
    "            n=n+1\n",
    "\n",
    "        x_dif=np.array(x_dif)\n",
    "        y_dif=np.array(y_dif)\n",
    "        m=sum(y_dif*x_dif)/sum(x_dif*x_dif)\n",
    "        c = np.mean(y)-m*np.mean(x)\n",
    "        v = [m,c]\n",
    "    else:\n",
    "        n=0\n",
    "        xy=[]\n",
    "        while n<len(x):\n",
    "            xy.extend([x[n]*(y[n]-intercept)])\n",
    "            n=n+1\n",
    "        xx=[]\n",
    "        n=0\n",
    "        while n<len(x):\n",
    "            xx.extend([x[n]*x[n]])\n",
    "            n=n+1\n",
    "        m=sum(xy)/sum(xx)\n",
    "        c = intercept\n",
    "        v = [m,c]\n",
    "    R=int\n",
    "    n=0\n",
    "    res_y=[]\n",
    "    squ_y=[]\n",
    "    while n<len(y):\n",
    "        res_y.extend([(y[n]-(m*x[n]+c))**2])\n",
    "        n=n+1\n",
    "    n=0\n",
    "    while n<len(y):\n",
    "        squ_y.extend([(y[n]-np.mean(y))**2])\n",
    "        n=n+1\n",
    "    R=1-sum(res_y)/sum(squ_y)\n",
    "    v=[m,c,R]\n",
    "    return v\n",
    "        \n",
    "        \n",
    "data = {'NitrateConc(mg/L)': [5, 10, 15, 30, 75, 150, 250, 500], 'Abs': [0.074386, 0.084085333, 0.098524667, 0.173196667, 0.398297667, 0.932313, 1.618164, 3.265740333]}\n",
    "df_data=pd.DataFrame(data)\n",
    "v=linear_fit(df_data)\n",
    "print(v[2])\n",
    "x=[]\n",
    "n=0\n",
    "while n<len(df_data) :\n",
    "    x.extend([df_data.iloc[n,0]])\n",
    "    n=n+1\n",
    "y=[]\n",
    "n=0\n",
    "while n<len(df_data) :\n",
    "    y.extend([df_data.iloc[n,1]])\n",
    "    n=n+1\n",
    "n=0\n",
    "y_init=[]\n",
    "max=np.max(y)\n",
    "print(max)\n",
    "while n<len(y):\n",
    "    y_init.extend([1/(y[n]-(max+0.1))])\n",
    "    n=n+1\n",
    "dfl=[x,y_init]\n",
    "df = pd.DataFrame (dfl).transpose()\n",
    "df.columns = ['x', 'y_init']\n",
    "R=v[2]\n",
    "type(int(R))"
   ]
  },
  {
   "cell_type": "code",
   "execution_count": 168,
   "id": "09a35d00-68b5-4d46-8612-21625acf9476",
   "metadata": {
    "jp-MarkdownHeadingCollapsed": true,
    "tags": []
   },
   "outputs": [
    {
     "name": "stdout",
     "output_type": "stream",
     "text": [
      "Start\n",
      "Finish\n"
     ]
    },
    {
     "data": {
      "text/plain": [
       "[-3.9999999998344347, 4.999999999899571, 6.682050586203838e-10]"
      ]
     },
     "execution_count": 168,
     "metadata": {},
     "output_type": "execute_result"
    },
    {
     "data": {
      "image/png": "[encoded data removed]",
      "text/plain": [
       "<Figure size 432x288 with 1 Axes>"
      ]
     },
     "metadata": {
      "needs_background": "light"
     },
     "output_type": "display_data"
    }
   ],
   "source": [
    "print(\"Start\")\n",
    "def inverse_fit (self,dp=0.1):\n",
    "    import pandas as pd\n",
    "    x=[]\n",
    "    n=0\n",
    "    while n<len(self) :\n",
    "        x.extend([self.iloc[n,0]])\n",
    "        n=n+1\n",
    "    # make x array\n",
    "    y=[]\n",
    "    n=0\n",
    "    while n<len(self) :\n",
    "        y.extend([self.iloc[n,1]])\n",
    "        n=n+1\n",
    "    # make y array\n",
    "    n=0\n",
    "    inv_x=[]\n",
    "    n=0\n",
    "    while n<len(self) :\n",
    "        inv_x.extend([1/x[n]])\n",
    "        n=n+1\n",
    "    # make 1/x array\n",
    "    dfl=[inv_x,y]\n",
    "    df = pd.DataFrame (dfl).transpose()\n",
    "    df.columns = ['inv_x', 'y']\n",
    "    v=linear_fit(df)\n",
    "    k=v[0]\n",
    "    c=v[1]\n",
    "    # Use linear fit of 1/x to guess k and c\n",
    "    n=0\n",
    "    y_new=[]\n",
    "    while n<len(y):\n",
    "        y_new.extend([((k/x[n])+c)])\n",
    "        n=n+1\n",
    "    res_y=[]\n",
    "    n=0\n",
    "    while n<len(y):\n",
    "        res_y.extend([(y[n]-y_new[n])**2])\n",
    "        n=n+1\n",
    "    SumRes=(np.sum(res_y))**0.5\n",
    "    # Check residues of k and c\n",
    "    r=[k,c]\n",
    "    r.append(SumRes)\n",
    "    n=0\n",
    "    r[2]=SumRes\n",
    "    r[0]=k\n",
    "    ax=plt.axes()\n",
    "    ax.scatter(x,y,color='red')\n",
    "    n=0\n",
    "    plot_y=[]\n",
    "    plot_x=np.linspace(np.min(x),int(np.max(x)+np.min(x)),100)\n",
    "    while n<len(plot_x):\n",
    "        plot_y.extend([((k/plot_x[n])+c)])\n",
    "        n=n+1\n",
    "    ax.plot(plot_x,plot_y)\n",
    "    return r\n",
    "\n",
    "data = {'NitrateConc(mg/L)': [5, 10, 15, 30, 75, 150, 250, 500], 'Abs': [0.074386, 0.084085333, 0.098524667, 0.173196667, 0.398297667, 0.932313, 1.618164, 3.265740333]}\n",
    "df_data=pd.DataFrame(data)\n",
    "data2 = {'x': [1,2,3,4,5,6,7,8,9,10,11,12,13,14,15],'y':[1,3,(11/3),4,4.2,(13/3),((-4/7)+5),4.5,(41/9),4.6,4.636363636,4.666666667,4.692307692,4.714285714,4.733333333]}\n",
    "df_data2=pd.DataFrame(data2)\n",
    "v=inverse_fit(df_data2,0.1)\n",
    "print(\"Finish\")\n",
    "v"
   ]
  },
  {
   "cell_type": "raw",
   "id": "3366740e-5908-4579-9143-945fb5368422",
   "metadata": {},
   "source": []
  },
  {
   "cell_type": "code",
   "execution_count": 217,
   "id": "90ef4df1-1e73-4814-8623-e380f3c266d2",
   "metadata": {},
   "outputs": [
    {
     "data": {
      "text/plain": [
       "0.9945720571198094"
      ]
     },
     "execution_count": 217,
     "metadata": {},
     "output_type": "execute_result"
    }
   ],
   "source": [
    "data2 = {'x': [1,2,3,4,5,6,7,8,9,10],'y':[1,3,(11/3),4,4.2,(13/3),((-4/7)+5),4.5,(41/9),4.6]}\n",
    "df_data2=pd.DataFrame(data2)\n",
    "dp=1/10\n",
    "x=[]\n",
    "n=0\n",
    "while n<len(df_data2) :\n",
    "    x.extend([df_data2.iloc[n,0]])\n",
    "    n=n+1\n",
    "y=[]\n",
    "n=0\n",
    "while n<len(df_data2) :\n",
    "    y.extend([df_data2.iloc[n,1]])\n",
    "    n=n+1\n",
    "n=0\n",
    "y_init=[]\n",
    "max=np.max(y)\n",
    "while n<len(y):\n",
    "    y_init.extend([1/(y[n]-(max+dp))])\n",
    "    n=n+1\n",
    "dfl=[x,y_init]\n",
    "df = pd.DataFrame (dfl).transpose()\n",
    "df.columns = ['x', 'y_init']\n",
    "v=linear_fit(df,0)\n",
    "R=float(v[2])\n",
    "count=0\n",
    "while float(R)<0.99 and count<100:\n",
    "    max=max+dp\n",
    "    n=0\n",
    "    while n<len(y_init):\n",
    "        y_init[n]=(1/(y[n]-max))\n",
    "        n=n+1\n",
    "    dfl=[x,y_init]\n",
    "    df = pd.DataFrame (dfl).transpose()\n",
    "    df.columns = ['x', 'y_init']\n",
    "    v=linear_fit(df)\n",
    "    R=float(v[2])\n",
    "    count=count+1\n",
    "    r=[x,y_init,max]\n",
    "if count==100:\n",
    "    print(\"Data does not fit y = k/x + c\")\n",
    "    v=['NA','NA','NA']\n",
    "y_init\n",
    "max\n",
    "R\n"
   ]
  },
  {
   "cell_type": "code",
   "execution_count": 169,
   "id": "7eba739f-1848-4207-91c1-0c9199090c06",
   "metadata": {},
   "outputs": [
    {
     "data": {
      "text/plain": [
       "[-1.1435350908606918, 0.40965693168677897, 0.046856866172492566]"
      ]
     },
     "execution_count": 169,
     "metadata": {},
     "output_type": "execute_result"
    },
    {
     "data": {
      "image/png": "[encoded data removed]",
      "text/plain": [
       "<Figure size 432x288 with 1 Axes>"
      ]
     },
     "metadata": {
      "needs_background": "light"
     },
     "output_type": "display_data"
    }
   ],
   "source": [
    "data3 = {'Cellulose Mass (mg)':[5,10,15,25,50], 'Abs (a.u.)': [0.185137194,0.299465037,0.323579879,0.332546766,0.419647477]}\n",
    "df_data3=pd.DataFrame(data3)\n",
    "inverse_fit(df_data3)\n"
   ]
  },
  {
   "cell_type": "code",
   "execution_count": null,
   "id": "83e2eb7b-6c7e-459b-85d5-b3c28bce0804",
   "metadata": {},
   "outputs": [],
   "source": [
    "\n",
    "\n"
   ]
  },
  {
   "cell_type": "code",
   "execution_count": null,
   "id": "549606fe-a857-4a7f-9d0f-9eec11406f00",
   "metadata": {},
   "outputs": [],
   "source": []
  },
  {
   "cell_type": "code",
   "execution_count": 92,
   "id": "0b711da6-83f1-42b2-82cc-fc8313b6e492",
   "metadata": {},
   "outputs": [],
   "source": [
    "\n"
   ]
  },
  {
   "cell_type": "code",
   "execution_count": null,
   "id": "8badd60e-fee5-4b29-8bcf-c619c0ecb137",
   "metadata": {},
   "outputs": [],
   "source": []
  }
 ],
 "metadata": {
  "kernelspec": {
   "display_name": "Python",
   "language": "python",
   "name": "conda-env-python-py"
  },
  "language_info": {
   "codemirror_mode": {
    "name": "ipython",
    "version": 3
   },
   "file_extension": ".py",
   "mimetype": "text/x-python",
   "name": "python",
   "nbconvert_exporter": "python",
   "pygments_lexer": "ipython3",
   "version": "3.7.12"
  }
 },
 "nbformat": 4,
 "nbformat_minor": 5
}
