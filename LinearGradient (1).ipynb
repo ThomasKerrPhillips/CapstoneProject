{
    "cells": [
        {
            "cell_type": "code",
            "execution_count": 2,
            "id": "94da5420-1131-484b-9c6a-ad3ebf10d49e",
            "metadata": {},
            "outputs": [
                {
                    "name": "stdout",
                    "output_type": "stream",
                    "text": "0.9986713166140342\n3.265740333\n"
                },
                {
                    "data": {
                        "text/plain": "int"
                    },
                    "execution_count": 2,
                    "metadata": {},
                    "output_type": "execute_result"
                }
            ],
            "source": "import pandas as pd\nimport matplotlib.pyplot as plt\nimport numpy as np \n%matplotlib inline  \n\ndef linear_fit (self,intercept=-1):\n    import pandas as pd\n    x=[]\n    n=0\n    while n<len(self) :\n        x.extend([self.iloc[n,0]])\n        n=n+1\n    y=[]\n    n=0\n    while n<len(self) :\n        y.extend([self.iloc[n,1]])\n        n=n+1\n    m=int\n    if intercept==-1:\n        x_dif=[]\n        n=0\n        while n<len(x):\n            x_dif.extend([(x[n]-np.mean(x))])\n            n=n+1\n        while n<len(self) :\n            y.extend([self.iloc[n,1]])\n            n=n+1\n        y_dif=[]\n        n=0\n        while n<len(y):\n            y_dif.extend([(y[n]-np.mean(y))])\n            n=n+1\n\n        x_dif=np.array(x_dif)\n        y_dif=np.array(y_dif)\n        m=sum(y_dif*x_dif)/sum(x_dif*x_dif)\n        c = np.mean(y)-m*np.mean(x)\n        v = [m,c]\n    else:\n        n=0\n        xy=[]\n        while n<len(x):\n            xy.extend([x[n]*(y[n]-intercept)])\n            n=n+1\n        xx=[]\n        n=0\n        while n<len(x):\n            xx.extend([x[n]*x[n]])\n            n=n+1\n        m=sum(xy)/sum(xx)\n        c = intercept\n        v = [m,c]\n    R=int\n    n=0\n    res_y=[]\n    squ_y=[]\n    while n<len(y):\n        res_y.extend([(y[n]-(m*x[n]+c))**2])\n        n=n+1\n    n=0\n    while n<len(y):\n        squ_y.extend([(y[n]-np.mean(y))**2])\n        n=n+1\n    R=1-sum(res_y)/sum(squ_y)\n    v=[m,c,R]\n    return v\n        \n        \ndata = {'NitrateConc(mg/L)': [5, 10, 15, 30, 75, 150, 250, 500], 'Abs': [0.074386, 0.084085333, 0.098524667, 0.173196667, 0.398297667, 0.932313, 1.618164, 3.265740333]}\ndf_data=pd.DataFrame(data)\nv=linear_fit(df_data)\nprint(v[2])\nx=[]\nn=0\nwhile n<len(df_data) :\n    x.extend([df_data.iloc[n,0]])\n    n=n+1\ny=[]\nn=0\nwhile n<len(df_data) :\n    y.extend([df_data.iloc[n,1]])\n    n=n+1\nn=0\ny_init=[]\nmax=np.max(y)\nprint(max)\nwhile n<len(y):\n    y_init.extend([1/(y[n]-(max+0.1))])\n    n=n+1\ndfl=[x,y_init]\ndf = pd.DataFrame (dfl).transpose()\ndf.columns = ['x', 'y_init']\nR=v[2]\ntype(int(R))"
        },
        {
            "cell_type": "code",
            "execution_count": 16,
            "id": "09a35d00-68b5-4d46-8612-21625acf9476",
            "metadata": {
                "jp-MarkdownHeadingCollapsed": true,
                "tags": []
            },
            "outputs": [
                {
                    "name": "stdout",
                    "output_type": "stream",
                    "text": "Start\nFinish\n"
                },
                {
                    "data": {
                        "text/plain": "[-4.041829857433452,\n 5.033333332999999,\n 0.9990992679968757,\n 0.10088913833115225,\n 5]"
                    },
                    "execution_count": 16,
                    "metadata": {},
                    "output_type": "execute_result"
                }
            ],
            "source": "print(\"Start\")\ndef inverse_fit (self,dp=0.1):\n    import pandas as pd\n    x=[]\n    n=0\n    while n<len(self) :\n        x.extend([self.iloc[n,0]])\n        n=n+1\n    y=[]\n    n=0\n    while n<len(self) :\n        y.extend([self.iloc[n,1]])\n        n=n+1\n    n=0\n    y_init=[]\n    max=np.max(y)\n    while n<len(y):\n        y_init.extend([1/(y[n]-(max+dp))])\n        n=n+1\n    dfl=[x,y_init]\n    df = pd.DataFrame (dfl).transpose()\n    df.columns = ['x', 'y_init']\n    v=linear_fit(df,0)\n    R=float(v[2])\n    count=0\n    while float(R)<0.999 and count<100:\n        max=max+dp\n        n=0\n        while n<len(y_init):\n            y_init[n]=(1/(y[n]-max))\n            n=n+1\n        dfl=[x,y_init]\n        df = pd.DataFrame (dfl).transpose()\n        df.columns = ['x', 'y_init']\n        v=linear_fit(df)\n        R=float(v[2])\n        count=count+1\n    r=[1/v[0],max,R]\n    y_new=[]\n    k=r[0]\n    if count==100:\n        print(\"Data does not fit y = k/x + c\")\n        r=['NA','NA','NA']\n    else:\n        n=0\n        while n<len(y):\n            y_new.extend([((k/x[n])+r[1])])\n            n=n+1\n        res_y=[]\n        n=0\n        while n<len(y):\n            res_y.extend([(y[n]-y_new[n])**2])\n            n=n+1\n        SumRes=(np.sum(res_y))**0.5\n        r.append(SumRes)\n        n=0\n        count=0\n        while SumRes>0.11 and count<100:\n            k=k+dp\n            n=0\n            while n<len(y):\n                y_new[n]=(((k/x[n])+r[1]))\n                res_y[n]=([(y[n]-y_new[n])**2])\n                n=n+1\n            SumRes=(np.sum(res_y))**0.5\n            count=count+1\n        r[3]=SumRes\n        r[0]=k\n        r.append(count)\n    return r\n\ndata = {'NitrateConc(mg/L)': [5, 10, 15, 30, 75, 150, 250, 500], 'Abs': [0.074386, 0.084085333, 0.098524667, 0.173196667, 0.398297667, 0.932313, 1.618164, 3.265740333]}\ndf_data=pd.DataFrame(data)\ndata2 = {'x': [1,2,3,4,5,6,7,8,9,10,11,12,13,14,15],'y':[1,3,(11/3),4,4.2,(13/3),((-4/7)+5),4.5,(41/9),4.6,4.636363636,4.666666667,4.692307692,4.714285714,4.733333333]}\ndf_data2=pd.DataFrame(data2)\nv=inverse_fit(df_data2,0.1)\nprint(\"Finish\")\nv\n"
        },
        {
            "cell_type": "code",
            "execution_count": 217,
            "id": "90ef4df1-1e73-4814-8623-e380f3c266d2",
            "metadata": {},
            "outputs": [
                {
                    "data": {
                        "text/plain": "0.9945720571198094"
                    },
                    "execution_count": 217,
                    "metadata": {},
                    "output_type": "execute_result"
                }
            ],
            "source": "data2 = {'x': [1,2,3,4,5,6,7,8,9,10],'y':[1,3,(11/3),4,4.2,(13/3),((-4/7)+5),4.5,(41/9),4.6]}\ndf_data2=pd.DataFrame(data2)\ndp=1/10\nx=[]\nn=0\nwhile n<len(df_data2) :\n    x.extend([df_data2.iloc[n,0]])\n    n=n+1\ny=[]\nn=0\nwhile n<len(df_data2) :\n    y.extend([df_data2.iloc[n,1]])\n    n=n+1\nn=0\ny_init=[]\nmax=np.max(y)\nwhile n<len(y):\n    y_init.extend([1/(y[n]-(max+dp))])\n    n=n+1\ndfl=[x,y_init]\ndf = pd.DataFrame (dfl).transpose()\ndf.columns = ['x', 'y_init']\nv=linear_fit(df,0)\nR=float(v[2])\ncount=0\nwhile float(R)<0.99 and count<100:\n    max=max+dp\n    n=0\n    while n<len(y_init):\n        y_init[n]=(1/(y[n]-max))\n        n=n+1\n    dfl=[x,y_init]\n    df = pd.DataFrame (dfl).transpose()\n    df.columns = ['x', 'y_init']\n    v=linear_fit(df)\n    R=float(v[2])\n    count=count+1\n    r=[x,y_init,max]\nif count==100:\n    print(\"Data does not fit y = k/x + c\")\n    v=['NA','NA','NA']\ny_init\nmax\nR\n"
        },
        {
            "cell_type": "code",
            "execution_count": null,
            "id": "7eba739f-1848-4207-91c1-0c9199090c06",
            "metadata": {},
            "outputs": [],
            "source": ""
        },
        {
            "cell_type": "code",
            "execution_count": null,
            "id": "83e2eb7b-6c7e-459b-85d5-b3c28bce0804",
            "metadata": {},
            "outputs": [],
            "source": ""
        },
        {
            "cell_type": "code",
            "execution_count": null,
            "id": "549606fe-a857-4a7f-9d0f-9eec11406f00",
            "metadata": {},
            "outputs": [],
            "source": ""
        }
    ],
    "metadata": {
        "kernelspec": {
            "display_name": "Python",
            "language": "python",
            "name": "conda-env-python-py"
        },
        "language_info": {
            "codemirror_mode": {
                "name": "ipython",
                "version": 3
            },
            "file_extension": ".py",
            "mimetype": "text/x-python",
            "name": "python",
            "nbconvert_exporter": "python",
            "pygments_lexer": "ipython3",
            "version": "3.7.12"
        }
    },
    "nbformat": 4,
    "nbformat_minor": 5
}